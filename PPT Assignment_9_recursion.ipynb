{
 "cells": [
  {
   "cell_type": "markdown",
   "id": "fd1bfa02",
   "metadata": {},
   "source": [
    "# SUBMITTED BY: TEJASVE GUPTA"
   ]
  },
  {
   "cell_type": "markdown",
   "id": "150c9627",
   "metadata": {},
   "source": [
    "**Question 1**\n",
    "\n",
    "Given an integer `n`, return *`true` if it is a power of two. Otherwise, return `false`*.\n",
    "\n",
    "An integer `n` is a power of two, if there exists an integer `x` such that `n == 2x`.\n",
    "\n",
    "**Example 1:**\n",
    "Input: n = 1 \n",
    "\n",
    "Output: true\n",
    "\n",
    "**Example 2:**\n",
    "Input: n = 16 \n",
    "\n",
    "Output: true\n",
    "\n",
    "**Example 3:**\n",
    "Input: n = 3 \n",
    "\n",
    "Output: false"
   ]
  },
  {
   "cell_type": "code",
   "execution_count": 1,
   "id": "419bc272",
   "metadata": {},
   "outputs": [],
   "source": [
    "def isPowerOfTwo(n):\n",
    "    if n <= 0:\n",
    "        return False\n",
    "    return (n & (n - 1)) == 0"
   ]
  },
  {
   "cell_type": "code",
   "execution_count": 2,
   "id": "82b9d6cc",
   "metadata": {},
   "outputs": [
    {
     "name": "stdout",
     "output_type": "stream",
     "text": [
      "True\n",
      "True\n",
      "False\n"
     ]
    }
   ],
   "source": [
    "print(isPowerOfTwo(1))  # Output: True\n",
    "print(isPowerOfTwo(16))  # Output: True\n",
    "print(isPowerOfTwo(3))  # Output: False"
   ]
  },
  {
   "cell_type": "markdown",
   "id": "048a5572",
   "metadata": {},
   "source": [
    "**Question 2**\n",
    "\n",
    "Given a number n, find the sum of the first natural numbers.\n",
    "\n",
    "**Example 1:**\n",
    "\n",
    "Input: n = 3 \n",
    "\n",
    "Output: 6\n",
    "\n",
    "**Example 2:**\n",
    "\n",
    "Input  : 5 \n",
    "\n",
    "Output : 15"
   ]
  },
  {
   "cell_type": "code",
   "execution_count": 3,
   "id": "06f3dfaa",
   "metadata": {},
   "outputs": [],
   "source": [
    "def sumOfNaturalNumbers(n):\n",
    "    return (n * (n + 1)) // 2"
   ]
  },
  {
   "cell_type": "code",
   "execution_count": 4,
   "id": "0c374809",
   "metadata": {},
   "outputs": [
    {
     "name": "stdout",
     "output_type": "stream",
     "text": [
      "6\n",
      "15\n"
     ]
    }
   ],
   "source": [
    "print(sumOfNaturalNumbers(3))  # Output: 6\n",
    "print(sumOfNaturalNumbers(5))  # Output: 15"
   ]
  },
  {
   "cell_type": "markdown",
   "id": "88a7101d",
   "metadata": {},
   "source": [
    "**Question 3**\n",
    "\n",
    "****Given a positive integer, N. Find the factorial of N. \n",
    "\n",
    "**Example 1:**\n",
    "\n",
    "Input: N = 5 \n",
    "\n",
    "Output: 120\n",
    "\n",
    "**Example 2:**\n",
    "\n",
    "Input: N = 4\n",
    "\n",
    "Output: 24\n"
   ]
  },
  {
   "cell_type": "code",
   "execution_count": 5,
   "id": "ae0f4568",
   "metadata": {},
   "outputs": [],
   "source": [
    "def factorial(N):\n",
    "    factorial = 1\n",
    "    for i in range(1, N + 1):\n",
    "        factorial *= i\n",
    "    return factorial"
   ]
  },
  {
   "cell_type": "code",
   "execution_count": 6,
   "id": "245751f3",
   "metadata": {},
   "outputs": [
    {
     "name": "stdout",
     "output_type": "stream",
     "text": [
      "120\n",
      "24\n"
     ]
    }
   ],
   "source": [
    "print(factorial(5))  # Output: 120\n",
    "print(factorial(4))  # Output: 24"
   ]
  },
  {
   "cell_type": "markdown",
   "id": "f33a8f1e",
   "metadata": {},
   "source": [
    "**Question 4**\n",
    "\n",
    "Given a number N and a power P, the task is to find the exponent of this number raised to the given power, i.e. N^P.\n",
    "\n",
    "**Example 1 :** \n",
    "\n",
    "Input: N = 5, P = 2\n",
    "\n",
    "Output: 25\n",
    "\n",
    "**Example 2 :**\n",
    "Input: N = 2, P = 5\n",
    "\n",
    "Output: 32\n"
   ]
  },
  {
   "cell_type": "code",
   "execution_count": 7,
   "id": "ec3f6f5d",
   "metadata": {},
   "outputs": [],
   "source": [
    "def calculateExponent(N, P):\n",
    "    return N ** P"
   ]
  },
  {
   "cell_type": "code",
   "execution_count": 8,
   "id": "3a0f295a",
   "metadata": {},
   "outputs": [
    {
     "name": "stdout",
     "output_type": "stream",
     "text": [
      "25\n",
      "32\n"
     ]
    }
   ],
   "source": [
    "print(calculateExponent(5, 2))  # Output: 25\n",
    "print(calculateExponent(2, 5))  # Output: 32"
   ]
  },
  {
   "cell_type": "markdown",
   "id": "b877f1d8",
   "metadata": {},
   "source": [
    "**Question 5**\n",
    "\n",
    "Given an array of integers **arr**, the task is to find maximum element of that array using recursion.\n",
    "\n",
    "**Example 1:**\n",
    "\n",
    "Input: arr = {1, 4, 3, -5, -4, 8, 6};\n",
    "Output: 8\n",
    "\n",
    "**Example 2:**\n",
    "\n",
    "Input: arr = {1, 4, 45, 6, 10, -8};\n",
    "Output: 45\n"
   ]
  },
  {
   "cell_type": "code",
   "execution_count": 9,
   "id": "9c17a2e5",
   "metadata": {},
   "outputs": [],
   "source": [
    "def findMax(arr):\n",
    "    # Base case: If array contains only one element, return that element\n",
    "    if len(arr) == 1:\n",
    "        return arr[0]\n",
    "\n",
    "    # Split the array into two halves\n",
    "    mid = len(arr) // 2\n",
    "    left = arr[:mid]\n",
    "    right = arr[mid:]\n",
    "\n",
    "    # Recursively find the maximum elements of the left and right halves\n",
    "    max_left = findMax(left)\n",
    "    max_right = findMax(right)\n",
    "\n",
    "    # Compare the maximum elements of the left and right halves and return the larger one\n",
    "    return max(max_left, max_right)"
   ]
  },
  {
   "cell_type": "code",
   "execution_count": 11,
   "id": "b192cb9c",
   "metadata": {},
   "outputs": [
    {
     "name": "stdout",
     "output_type": "stream",
     "text": [
      "8\n",
      "45\n"
     ]
    }
   ],
   "source": [
    "arr1 = [1, 4, 3, -5, -4, 8, 6]\n",
    "print(findMax(arr1))  # Output: 8\n",
    "\n",
    "arr2 = [1, 4, 45, 6, 10, -8]\n",
    "print(findMax(arr2))  # Output: 45\n"
   ]
  },
  {
   "cell_type": "markdown",
   "id": "6495b59a",
   "metadata": {},
   "source": [
    "**Question 6**\n",
    "\n",
    "Given first term (a), common difference (d) and a integer N of the Arithmetic Progression series, the task is to find Nth term of the series.\n",
    "\n",
    "**Example 1:**\n",
    "\n",
    "Input : a = 2 d = 1 N = 5\n",
    "Output : 6\n",
    "The 5th term of the series is : 6\n",
    "\n",
    "**Example 2:**\n",
    "\n",
    "Input : a = 5 d = 2 N = 10\n",
    "Output : 23\n",
    "The 10th term of the series is : 23"
   ]
  },
  {
   "cell_type": "code",
   "execution_count": 12,
   "id": "b50cefc5",
   "metadata": {},
   "outputs": [],
   "source": [
    "def findNthTerm(a, d, N):\n",
    "    return a + (N - 1) * d"
   ]
  },
  {
   "cell_type": "code",
   "execution_count": 13,
   "id": "4d4106e8",
   "metadata": {},
   "outputs": [
    {
     "name": "stdout",
     "output_type": "stream",
     "text": [
      "6\n",
      "23\n"
     ]
    }
   ],
   "source": [
    "print(findNthTerm(2, 1, 5))  # Output: 6\n",
    "print(findNthTerm(5, 2, 10))  # Output: 23"
   ]
  },
  {
   "cell_type": "markdown",
   "id": "9274b0bf",
   "metadata": {},
   "source": [
    "**Question 7**\n",
    "\n",
    "Given a string S, the task is to write a program to print all permutations of a given string.\n",
    "\n",
    "**Example 1:**\n",
    "\n",
    "***Input:***\n",
    "\n",
    "*S = “ABC”*\n",
    "\n",
    "***Output:***\n",
    "\n",
    "*“ABC”, “ACB”, “BAC”, “BCA”, “CBA”, “CAB”*\n",
    "\n",
    "**Example 2:**\n",
    "\n",
    "***Input:***\n",
    "\n",
    "*S = “XY”*\n",
    "\n",
    "***Output:***\n",
    "\n",
    "*“XY”, “YX”*\n"
   ]
  },
  {
   "cell_type": "code",
   "execution_count": 14,
   "id": "fd4f71cf",
   "metadata": {},
   "outputs": [],
   "source": [
    "def permute(S):\n",
    "    # Base case: If the length of S is 1, return the string itself as the only permutation\n",
    "    if len(S) == 1:\n",
    "        return [S]\n",
    "\n",
    "    # Set to store all permutations\n",
    "    permutations = []\n",
    "\n",
    "    # Generate permutations for each character in S\n",
    "    for i in range(len(S)):\n",
    "        # Remove character at index i from S\n",
    "        c = S[i]\n",
    "        S_without_c = S[:i] + S[i+1:]\n",
    "\n",
    "        # Recursively generate all permutations of S_without_c\n",
    "        sub_permutations = permute(S_without_c)\n",
    "\n",
    "        # Append c to each permutation\n",
    "        for sub_permutation in sub_permutations:\n",
    "            permutations.append(c + sub_permutation)\n",
    "\n",
    "    return permutations"
   ]
  },
  {
   "cell_type": "code",
   "execution_count": 15,
   "id": "1d2fdc19",
   "metadata": {},
   "outputs": [
    {
     "name": "stdout",
     "output_type": "stream",
     "text": [
      "['ABC', 'ACB', 'BAC', 'BCA', 'CAB', 'CBA']\n",
      "['XY', 'YX']\n"
     ]
    }
   ],
   "source": [
    "S1 = \"ABC\"\n",
    "print(permute(S1))  # Output: ['ABC', 'ACB', 'BAC', 'BCA', 'CAB', 'CBA']\n",
    "\n",
    "S2 = \"XY\"\n",
    "print(permute(S2))  # Output: ['XY', 'YX']"
   ]
  },
  {
   "cell_type": "markdown",
   "id": "221b1d5f",
   "metadata": {},
   "source": [
    "**Question 8**\n",
    "\n",
    "Given an array, find a product of all array elements.\n",
    "\n",
    "**Example 1:**\n",
    "\n",
    "Input  : arr[] = {1, 2, 3, 4, 5}\n",
    "Output : 120\n",
    "**Example 2:**\n",
    "\n",
    "Input  : arr[] = {1, 6, 3}\n",
    "Output : 18\n"
   ]
  },
  {
   "cell_type": "code",
   "execution_count": 16,
   "id": "d7d9b503",
   "metadata": {},
   "outputs": [],
   "source": [
    "def productOfArray(arr):\n",
    "    product = 1\n",
    "    for num in arr:\n",
    "        product *= num\n",
    "    return product"
   ]
  },
  {
   "cell_type": "code",
   "execution_count": 17,
   "id": "bc727018",
   "metadata": {},
   "outputs": [
    {
     "name": "stdout",
     "output_type": "stream",
     "text": [
      "120\n",
      "18\n"
     ]
    }
   ],
   "source": [
    "arr1 = [1, 2, 3, 4, 5]\n",
    "print(productOfArray(arr1))  # Output: 120\n",
    "\n",
    "arr2 = [1, 6, 3]\n",
    "print(productOfArray(arr2))  # Output: 18"
   ]
  },
  {
   "cell_type": "code",
   "execution_count": null,
   "id": "beae4503",
   "metadata": {},
   "outputs": [],
   "source": []
  }
 ],
 "metadata": {
  "kernelspec": {
   "display_name": "Python 3 (ipykernel)",
   "language": "python",
   "name": "python3"
  },
  "language_info": {
   "codemirror_mode": {
    "name": "ipython",
    "version": 3
   },
   "file_extension": ".py",
   "mimetype": "text/x-python",
   "name": "python",
   "nbconvert_exporter": "python",
   "pygments_lexer": "ipython3",
   "version": "3.9.7"
  }
 },
 "nbformat": 4,
 "nbformat_minor": 5
}
